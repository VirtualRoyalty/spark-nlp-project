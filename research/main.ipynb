{
  "nbformat": 4,
  "nbformat_minor": 0,
  "metadata": {
    "colab": {
      "name": "bigdata-project",
      "provenance": [],
      "collapsed_sections": []
    },
    "kernelspec": {
      "name": "python3",
      "display_name": "Python 3"
    },
    "accelerator": "GPU"
  },
  "cells": [
    {
      "cell_type": "markdown",
      "metadata": {
        "id": "TA21Jo5d9SVq"
      },
      "source": [
        "\n",
        "### BigData Project on\n",
        "# NLP for russian language via SparkNLP\n",
        "\n",
        "Vadim Alperovich <br>\n",
        "IAD21\n",
        "\n",
        "[![Go to colab](https://colab.research.google.com/assets/colab-badge.svg)](https://colab.research.google.com/drive/1WpuuDQSxczxT95MxYoOewBnDqKZ9pVOE?authuser=3#scrollTo=TA21Jo5d9SVq)\n",
        "\n",
        "\n"
      ]
    },
    {
      "cell_type": "markdown",
      "metadata": {
        "id": "wIeCOiJNW-88"
      },
      "source": [
        "# 1. Colab-Spark setup"
      ]
    },
    {
      "cell_type": "code",
      "metadata": {
        "id": "CGJktFHdHL1n",
        "colab": {
          "base_uri": "https://localhost:8080/",
          "height": 53
        },
        "outputId": "3371b3fb-e342-4050-b0aa-15b0972ffa0b"
      },
      "source": [
        "%%time\n",
        "from IPython.display import clear_output\n",
        "!wget http://setup.johnsnowlabs.com/colab.sh -O - | bash\n",
        "\n",
        "# Install Spark NLP Display for visualization\n",
        "!pip install --ignore-installed spark-nlp-display\n",
        "clear_output(wait=True)"
      ],
      "execution_count": 1,
      "outputs": [
        {
          "output_type": "stream",
          "name": "stdout",
          "text": [
            "CPU times: user 217 ms, sys: 69.8 ms, total: 287 ms\n",
            "Wall time: 23.5 s\n"
          ]
        }
      ]
    },
    {
      "cell_type": "code",
      "source": [
        "%%time\n",
        "import sparknlp\n",
        "import pyspark.sql.functions as F\n",
        "import pyspark.sql.types as T\n",
        "\n",
        "from pyspark.ml import Pipeline\n",
        "from pyspark.sql import SparkSession\n",
        "from sparknlp.annotator import *\n",
        "from sparknlp.base import *\n",
        "from sparknlp.pretrained import PretrainedPipeline\n",
        "\n",
        "spark = sparknlp.start()"
      ],
      "metadata": {
        "colab": {
          "base_uri": "https://localhost:8080/"
        },
        "id": "xSxDlq8a-8SA",
        "outputId": "4a968c16-c406-4744-a72b-5c23f2ffff24"
      },
      "execution_count": 159,
      "outputs": [
        {
          "output_type": "stream",
          "name": "stdout",
          "text": [
            "CPU times: user 17 µs, sys: 0 ns, total: 17 µs\n",
            "Wall time: 21 µs\n"
          ]
        }
      ]
    },
    {
      "cell_type": "markdown",
      "source": [
        "# 2. Data loading"
      ],
      "metadata": {
        "id": "gs5HEsVh_Syl"
      }
    },
    {
      "cell_type": "code",
      "source": [
        "from google.colab import drive\n",
        "drive.mount('/content/drive')\n",
        "PROJECT_FOLDER = '/content/drive/MyDrive/spark-project/'\n",
        "%ls {PROJECT_FOLDER}"
      ],
      "metadata": {
        "colab": {
          "base_uri": "https://localhost:8080/"
        },
        "id": "E4xN52TZAA67",
        "outputId": "e0bce118-777a-4a03-96ff-58cb32aefc33"
      },
      "execution_count": 2,
      "outputs": [
        {
          "output_type": "stream",
          "name": "stdout",
          "text": [
            "Drive already mounted at /content/drive; to attempt to forcibly remount, call drive.mount(\"/content/drive\", force_remount=True).\n",
            "bigdata-project  \u001b[0m\u001b[01;34mdata\u001b[0m/\n"
          ]
        }
      ]
    },
    {
      "cell_type": "code",
      "source": [
        "%%time\n",
        "# download the Lenta.ru v1.0 russian news dataset\n",
        "!wget https://github.com/yutkin/Lenta.Ru-News-Dataset/releases/download/v1.0/lenta-ru-news.csv.gz -P {PROJECT_FOLDER}/data\n",
        "# download supporting library\n",
        "!pip install corus\n",
        "clear_output(wait=True)"
      ],
      "metadata": {
        "colab": {
          "base_uri": "https://localhost:8080/"
        },
        "id": "XpzNx-q7_Wpr",
        "outputId": "abd4f40b-3777-48f0-8463-49eb3ad4523d"
      },
      "execution_count": 24,
      "outputs": [
        {
          "output_type": "stream",
          "name": "stdout",
          "text": [
            "CPU times: user 221 ms, sys: 91.9 ms, total: 313 ms\n",
            "Wall time: 16.9 s\n"
          ]
        }
      ]
    },
    {
      "cell_type": "code",
      "source": [
        "import json\n",
        "import corus\n",
        "import pandas as pd\n",
        "import numpy as np"
      ],
      "metadata": {
        "id": "LMF5FN_OCvMx"
      },
      "execution_count": 32,
      "outputs": []
    },
    {
      "cell_type": "code",
      "metadata": {
        "id": "sw-t1zxlHTB7",
        "colab": {
          "base_uri": "https://localhost:8080/"
        },
        "outputId": "a247422c-fa8b-4223-aa96-436035c5d013"
      },
      "source": [
        "%%time\n",
        "from corus import load_lenta\n",
        "\n",
        "records = load_lenta(path)\n",
        "l = []\n",
        "for i, r in enumerate(records):\n",
        "    if i > 50000:\n",
        "        break\n",
        "    l.append(list(r))\n",
        "df = pd.DataFrame(l, columns=['url', 'title', 'text', 'topic', 'tags', 'date'])\n",
        "df.to_csv(f'{PROJECT_FOLDER}/data/lenta-ru-news50000.csv', sep='\\t', index=None)"
      ],
      "execution_count": 120,
      "outputs": [
        {
          "output_type": "stream",
          "name": "stdout",
          "text": [
            "CPU times: user 4.35 s, sys: 257 ms, total: 4.61 s\n",
            "Wall time: 5.07 s\n"
          ]
        }
      ]
    },
    {
      "cell_type": "code",
      "source": [
        "# %%time\n",
        "# path = f'{PROJECT_FOLDER}/data/lenta-ru-news.csv.gz'\n",
        "\n",
        "# df = pd.read_csv(path, nrows=50000, compression='gzip')\n",
        "# df.head()\n",
        "# df.to_csv(f'{PROJECT_FOLDER}/data/lenta-ru-news50000.csv', sep='\\t', index=None)"
      ],
      "metadata": {
        "id": "3XC0UJoA_utu"
      },
      "execution_count": 88,
      "outputs": []
    },
    {
      "cell_type": "code",
      "source": [
        "spark_df = spark.read \\\n",
        "      .option(\"inferSchema\",\"true\") \\\n",
        "      .option(\"header\", True) \\\n",
        "      .csv(f'{PROJECT_FOLDER}/data/lenta-ru-news50000.csv', sep='\\t')\n",
        "print(f'Hell yeah, spark_df is {type(spark_df)}!')\n",
        "print(f'spark_df has {spark_df.count()} rows')\n",
        "spark_df"
      ],
      "metadata": {
        "colab": {
          "base_uri": "https://localhost:8080/"
        },
        "id": "viz4XH8k_urW",
        "outputId": "229511da-e3d6-42eb-d104-6184f0758377"
      },
      "execution_count": 121,
      "outputs": [
        {
          "output_type": "stream",
          "name": "stdout",
          "text": [
            "Hell yeah, spark_df is <class 'pyspark.sql.dataframe.DataFrame'>!\n",
            "spark_df has 50001 rows\n"
          ]
        },
        {
          "output_type": "execute_result",
          "data": {
            "text/plain": [
              "DataFrame[url: string, title: string, text: string, topic: string, tags: string, date: string]"
            ]
          },
          "metadata": {},
          "execution_count": 121
        }
      ]
    },
    {
      "cell_type": "code",
      "source": [
        "spark_df.show(n=10, truncate=30)"
      ],
      "metadata": {
        "colab": {
          "base_uri": "https://localhost:8080/"
        },
        "id": "5gv6_3nAIUmu",
        "outputId": "5c1904af-d085-4010-b621-4a05d482fe58"
      },
      "execution_count": 122,
      "outputs": [
        {
          "output_type": "stream",
          "name": "stdout",
          "text": [
            "+------------------------------+------------------------------+------------------------------+-----------------+---------------+----+\n",
            "|                           url|                         title|                          text|            topic|           tags|date|\n",
            "+------------------------------+------------------------------+------------------------------+-----------------+---------------+----+\n",
            "|https://lenta.ru/news/2018/...|Названы регионы России с са...|Вице-премьер по социальным ...|           Россия|       Общество|null|\n",
            "|https://lenta.ru/news/2018/...|Австрия не представила дока...|Австрийские правоохранитель...|            Спорт|    Зимние виды|null|\n",
            "|https://lenta.ru/news/2018/...|Обнаружено самое счастливое...|Сотрудники социальной сети ...|      Путешествия|            Мир|null|\n",
            "|https://lenta.ru/news/2018/...|В США раскрыли сумму расход...|С начала расследования росс...|              Мир|       Политика|null|\n",
            "|https://lenta.ru/news/2018/...|Хакеры рассказали о планах ...|Хакерская группировка Anony...|              Мир|       Общество|null|\n",
            "|https://lenta.ru/news/2018/...|Архиепископ канонической УП...|Архиепископ канонической Ук...|      Бывший СССР|        Украина|null|\n",
            "|https://lenta.ru/news/2018/...|Российскую молодежь предлож...|Российская молодежь лучше у...|   Интернет и СМИ|        Coцсети|null|\n",
            "|https://lenta.ru/news/2018/...|Полицейские из Солсбери опи...|Полицейские Алекс Коллинс и...|              Мир|       Общество|null|\n",
            "|https://lenta.ru/news/2018/...|Полет российских бомбардиро...|Минобороны опубликовало на ...|              Мир|       Политика|null|\n",
            "|https://lenta.ru/news/2018/...|В Минобороны раскрыли много...|Директора завода «Электропр...|Силовые структуры|Следствие и суд|null|\n",
            "+------------------------------+------------------------------+------------------------------+-----------------+---------------+----+\n",
            "only showing top 10 rows\n",
            "\n"
          ]
        }
      ]
    },
    {
      "cell_type": "markdown",
      "source": [
        "# 3. EDA & Preprocessing"
      ],
      "metadata": {
        "id": "_OvH9OyCJuKp"
      }
    },
    {
      "cell_type": "code",
      "source": [
        "column = 'topic'\n",
        "topic_unique = spark_df.select(column).distinct().count()\n",
        "print(f'*{column}* columns has {topic_unique} unique values', )\n",
        "spark_df.select(column).groupBy(column).count().orderBy(F.desc('count')).toPandas()"
      ],
      "metadata": {
        "colab": {
          "base_uri": "https://localhost:8080/",
          "height": 663
        },
        "id": "XuE4erFmLlP-",
        "outputId": "2b9a2cb2-113e-45d1-e87a-98b152073bcd"
      },
      "execution_count": 133,
      "outputs": [
        {
          "output_type": "stream",
          "name": "stdout",
          "text": [
            "*topic* columns has 19 unique values\n"
          ]
        },
        {
          "output_type": "execute_result",
          "data": {
            "text/html": [
              "<div>\n",
              "<style scoped>\n",
              "    .dataframe tbody tr th:only-of-type {\n",
              "        vertical-align: middle;\n",
              "    }\n",
              "\n",
              "    .dataframe tbody tr th {\n",
              "        vertical-align: top;\n",
              "    }\n",
              "\n",
              "    .dataframe thead th {\n",
              "        text-align: right;\n",
              "    }\n",
              "</style>\n",
              "<table border=\"1\" class=\"dataframe\">\n",
              "  <thead>\n",
              "    <tr style=\"text-align: right;\">\n",
              "      <th></th>\n",
              "      <th>topic</th>\n",
              "      <th>count</th>\n",
              "    </tr>\n",
              "  </thead>\n",
              "  <tbody>\n",
              "    <tr>\n",
              "      <th>0</th>\n",
              "      <td>Мир</td>\n",
              "      <td>6896</td>\n",
              "    </tr>\n",
              "    <tr>\n",
              "      <th>1</th>\n",
              "      <td>Россия</td>\n",
              "      <td>6871</td>\n",
              "    </tr>\n",
              "    <tr>\n",
              "      <th>2</th>\n",
              "      <td>Спорт</td>\n",
              "      <td>5458</td>\n",
              "    </tr>\n",
              "    <tr>\n",
              "      <th>3</th>\n",
              "      <td>Экономика</td>\n",
              "      <td>4915</td>\n",
              "    </tr>\n",
              "    <tr>\n",
              "      <th>4</th>\n",
              "      <td>Интернет и СМИ</td>\n",
              "      <td>3886</td>\n",
              "    </tr>\n",
              "    <tr>\n",
              "      <th>5</th>\n",
              "      <td>Наука и техника</td>\n",
              "      <td>3511</td>\n",
              "    </tr>\n",
              "    <tr>\n",
              "      <th>6</th>\n",
              "      <td>Из жизни</td>\n",
              "      <td>3320</td>\n",
              "    </tr>\n",
              "    <tr>\n",
              "      <th>7</th>\n",
              "      <td>Бывший СССР</td>\n",
              "      <td>3260</td>\n",
              "    </tr>\n",
              "    <tr>\n",
              "      <th>8</th>\n",
              "      <td>Культура</td>\n",
              "      <td>3171</td>\n",
              "    </tr>\n",
              "    <tr>\n",
              "      <th>9</th>\n",
              "      <td>Силовые структуры</td>\n",
              "      <td>2693</td>\n",
              "    </tr>\n",
              "    <tr>\n",
              "      <th>10</th>\n",
              "      <td>Дом</td>\n",
              "      <td>2088</td>\n",
              "    </tr>\n",
              "    <tr>\n",
              "      <th>11</th>\n",
              "      <td>Ценности</td>\n",
              "      <td>2064</td>\n",
              "    </tr>\n",
              "    <tr>\n",
              "      <th>12</th>\n",
              "      <td>Путешествия</td>\n",
              "      <td>1205</td>\n",
              "    </tr>\n",
              "    <tr>\n",
              "      <th>13</th>\n",
              "      <td>69-я параллель</td>\n",
              "      <td>423</td>\n",
              "    </tr>\n",
              "    <tr>\n",
              "      <th>14</th>\n",
              "      <td>Крым</td>\n",
              "      <td>150</td>\n",
              "    </tr>\n",
              "    <tr>\n",
              "      <th>15</th>\n",
              "      <td>Культпросвет</td>\n",
              "      <td>77</td>\n",
              "    </tr>\n",
              "    <tr>\n",
              "      <th>16</th>\n",
              "      <td>None</td>\n",
              "      <td>10</td>\n",
              "    </tr>\n",
              "    <tr>\n",
              "      <th>17</th>\n",
              "      <td>Бизнес</td>\n",
              "      <td>2</td>\n",
              "    </tr>\n",
              "    <tr>\n",
              "      <th>18</th>\n",
              "      <td>Оружие</td>\n",
              "      <td>1</td>\n",
              "    </tr>\n",
              "  </tbody>\n",
              "</table>\n",
              "</div>"
            ],
            "text/plain": [
              "                topic  count\n",
              "0                 Мир   6896\n",
              "1              Россия   6871\n",
              "2               Спорт   5458\n",
              "3           Экономика   4915\n",
              "4      Интернет и СМИ   3886\n",
              "5     Наука и техника   3511\n",
              "6            Из жизни   3320\n",
              "7         Бывший СССР   3260\n",
              "8            Культура   3171\n",
              "9   Силовые структуры   2693\n",
              "10                Дом   2088\n",
              "11           Ценности   2064\n",
              "12        Путешествия   1205\n",
              "13     69-я параллель    423\n",
              "14               Крым    150\n",
              "15      Культпросвет      77\n",
              "16               None     10\n",
              "17             Бизнес      2\n",
              "18             Оружие      1"
            ]
          },
          "metadata": {},
          "execution_count": 133
        }
      ]
    },
    {
      "cell_type": "code",
      "source": [
        "column = 'tags'\n",
        "tags_unique = spark_df.select(column).distinct().count()\n",
        "print(f'*{column}* columns has {tags_unique} unique values', )\n",
        "spark_df.select(column).groupBy(column).count().orderBy(F.desc('count')).toPandas()"
      ],
      "metadata": {
        "colab": {
          "base_uri": "https://localhost:8080/",
          "height": 442
        },
        "id": "obo8hgpQLlOo",
        "outputId": "d5443fb8-fd98-4bb9-915c-1756e6061311"
      },
      "execution_count": 135,
      "outputs": [
        {
          "output_type": "stream",
          "name": "stdout",
          "text": [
            "*tags* columns has 80 unique values\n"
          ]
        },
        {
          "output_type": "execute_result",
          "data": {
            "text/html": [
              "<div>\n",
              "<style scoped>\n",
              "    .dataframe tbody tr th:only-of-type {\n",
              "        vertical-align: middle;\n",
              "    }\n",
              "\n",
              "    .dataframe tbody tr th {\n",
              "        vertical-align: top;\n",
              "    }\n",
              "\n",
              "    .dataframe thead th {\n",
              "        text-align: right;\n",
              "    }\n",
              "</style>\n",
              "<table border=\"1\" class=\"dataframe\">\n",
              "  <thead>\n",
              "    <tr style=\"text-align: right;\">\n",
              "      <th></th>\n",
              "      <th>tags</th>\n",
              "      <th>count</th>\n",
              "    </tr>\n",
              "  </thead>\n",
              "  <tbody>\n",
              "    <tr>\n",
              "      <th>0</th>\n",
              "      <td>Политика</td>\n",
              "      <td>5521</td>\n",
              "    </tr>\n",
              "    <tr>\n",
              "      <th>1</th>\n",
              "      <td>Общество</td>\n",
              "      <td>4501</td>\n",
              "    </tr>\n",
              "    <tr>\n",
              "      <th>2</th>\n",
              "      <td>Происшествия</td>\n",
              "      <td>2933</td>\n",
              "    </tr>\n",
              "    <tr>\n",
              "      <th>3</th>\n",
              "      <td>Футбол</td>\n",
              "      <td>2798</td>\n",
              "    </tr>\n",
              "    <tr>\n",
              "      <th>4</th>\n",
              "      <td>Украина</td>\n",
              "      <td>2548</td>\n",
              "    </tr>\n",
              "    <tr>\n",
              "      <th>...</th>\n",
              "      <td>...</td>\n",
              "      <td>...</td>\n",
              "    </tr>\n",
              "    <tr>\n",
              "      <th>75</th>\n",
              "      <td>Наследие</td>\n",
              "      <td>10</td>\n",
              "    </tr>\n",
              "    <tr>\n",
              "      <th>76</th>\n",
              "      <td>Страноведение</td>\n",
              "      <td>8</td>\n",
              "    </tr>\n",
              "    <tr>\n",
              "      <th>77</th>\n",
              "      <td>Выборы</td>\n",
              "      <td>4</td>\n",
              "    </tr>\n",
              "    <tr>\n",
              "      <th>78</th>\n",
              "      <td>Экология</td>\n",
              "      <td>3</td>\n",
              "    </tr>\n",
              "    <tr>\n",
              "      <th>79</th>\n",
              "      <td>Вооружение</td>\n",
              "      <td>1</td>\n",
              "    </tr>\n",
              "  </tbody>\n",
              "</table>\n",
              "<p>80 rows × 2 columns</p>\n",
              "</div>"
            ],
            "text/plain": [
              "             tags  count\n",
              "0        Политика   5521\n",
              "1        Общество   4501\n",
              "2    Происшествия   2933\n",
              "3          Футбол   2798\n",
              "4         Украина   2548\n",
              "..            ...    ...\n",
              "75       Наследие     10\n",
              "76  Страноведение      8\n",
              "77         Выборы      4\n",
              "78       Экология      3\n",
              "79     Вооружение      1\n",
              "\n",
              "[80 rows x 2 columns]"
            ]
          },
          "metadata": {},
          "execution_count": 135
        }
      ]
    },
    {
      "cell_type": "code",
      "source": [
        "def get_text_count(text, token_len=False):\n",
        "    if token_len:\n",
        "        return len(text.split(' '))\n",
        "    return len(text)\n",
        "\n",
        "spark_get_char_count = F.udf(lambda x: get_text_count(x), T.IntegerType())\n",
        "spark_get_token_count = F.udf(lambda x: get_text_count(x, token_len=True), T.IntegerType())"
      ],
      "metadata": {
        "id": "B-skhW7cbyHw"
      },
      "execution_count": 160,
      "outputs": []
    },
    {
      "cell_type": "code",
      "source": [
        "%%time\n",
        "# ```text``` stats\n",
        "spark_df = spark_df.withColumn(\"char_count\", spark_get_char_count(F.col(\"text\")))\n",
        "spark_df = spark_df.withColumn(\"token_count\", spark_get_token_count(F.col(\"text\")))\n",
        "# ```title``` stats\n",
        "spark_df = spark_df.withColumn(\"char_count_title\", spark_get_char_count(F.col(\"title\")))\n",
        "spark_df = spark_df.withColumn(\"token_count_title\", spark_get_token_count(F.col(\"title\")))"
      ],
      "metadata": {
        "colab": {
          "base_uri": "https://localhost:8080/"
        },
        "id": "M1_g-QOhJsL4",
        "outputId": "06ec0aa3-0701-4157-b8c7-b3f3d5ca6c26"
      },
      "execution_count": 165,
      "outputs": [
        {
          "output_type": "stream",
          "name": "stdout",
          "text": [
            "CPU times: user 9.45 ms, sys: 3.08 ms, total: 12.5 ms\n",
            "Wall time: 48.8 ms\n"
          ]
        }
      ]
    },
    {
      "cell_type": "code",
      "source": [
        "spark_df.show(n=5, truncate=10)"
      ],
      "metadata": {
        "colab": {
          "base_uri": "https://localhost:8080/"
        },
        "id": "cO-tHYyzKTgu",
        "outputId": "3724d48d-ab2f-4087-d29b-687b8d66cf2a"
      },
      "execution_count": 166,
      "outputs": [
        {
          "output_type": "stream",
          "name": "stdout",
          "text": [
            "+----------+----------+----------+----------+----------+----+----------+-----------+----------------+-----------------+\n",
            "|       url|     title|      text|     topic|      tags|date|char_count|token_count|char_count_title|token_count_title|\n",
            "+----------+----------+----------+----------+----------+----+----------+-----------+----------------+-----------------+\n",
            "|https:/...|Названы...|Вице-пр...|    Россия|  Общество|null|       660|         92|              58|                7|\n",
            "|https:/...|Австрия...|Австрий...|     Спорт|Зимние ...|null|      1072|        137|              65|                6|\n",
            "|https:/...|Обнаруж...|Сотрудн...|Путешес...|       Мир|null|       961|        120|              44|                5|\n",
            "|https:/...|В США р...|С начал...|       Мир|  Политика|null|      1347|        189|              65|                8|\n",
            "|https:/...|Хакеры ...|Хакерск...|       Мир|  Общество|null|      2066|        255|              66|                6|\n",
            "+----------+----------+----------+----------+----------+----+----------+-----------+----------------+-----------------+\n",
            "only showing top 5 rows\n",
            "\n"
          ]
        }
      ]
    },
    {
      "cell_type": "code",
      "source": [
        "spark_df.select('char_count', 'token_count', 'char_count_title', 'token_count_title').describe().toPandas()"
      ],
      "metadata": {
        "colab": {
          "base_uri": "https://localhost:8080/",
          "height": 206
        },
        "id": "y5rSewnWKTPR",
        "outputId": "ac288ecd-d9f6-4325-bfef-20140912f472"
      },
      "execution_count": 168,
      "outputs": [
        {
          "output_type": "execute_result",
          "data": {
            "text/html": [
              "<div>\n",
              "<style scoped>\n",
              "    .dataframe tbody tr th:only-of-type {\n",
              "        vertical-align: middle;\n",
              "    }\n",
              "\n",
              "    .dataframe tbody tr th {\n",
              "        vertical-align: top;\n",
              "    }\n",
              "\n",
              "    .dataframe thead th {\n",
              "        text-align: right;\n",
              "    }\n",
              "</style>\n",
              "<table border=\"1\" class=\"dataframe\">\n",
              "  <thead>\n",
              "    <tr style=\"text-align: right;\">\n",
              "      <th></th>\n",
              "      <th>summary</th>\n",
              "      <th>char_count</th>\n",
              "      <th>token_count</th>\n",
              "      <th>char_count_title</th>\n",
              "      <th>token_count_title</th>\n",
              "    </tr>\n",
              "  </thead>\n",
              "  <tbody>\n",
              "    <tr>\n",
              "      <th>0</th>\n",
              "      <td>count</td>\n",
              "      <td>50001</td>\n",
              "      <td>50001</td>\n",
              "      <td>50001</td>\n",
              "      <td>50001</td>\n",
              "    </tr>\n",
              "    <tr>\n",
              "      <th>1</th>\n",
              "      <td>mean</td>\n",
              "      <td>1263.7543049139017</td>\n",
              "      <td>172.83338333233334</td>\n",
              "      <td>54.32613347733045</td>\n",
              "      <td>6.3006339873202535</td>\n",
              "    </tr>\n",
              "    <tr>\n",
              "      <th>2</th>\n",
              "      <td>stddev</td>\n",
              "      <td>470.62647495940723</td>\n",
              "      <td>63.09961567498512</td>\n",
              "      <td>13.146924158437349</td>\n",
              "      <td>1.474631275286148</td>\n",
              "    </tr>\n",
              "    <tr>\n",
              "      <th>3</th>\n",
              "      <td>min</td>\n",
              "      <td>252</td>\n",
              "      <td>31</td>\n",
              "      <td>12</td>\n",
              "      <td>1</td>\n",
              "    </tr>\n",
              "    <tr>\n",
              "      <th>4</th>\n",
              "      <td>max</td>\n",
              "      <td>9282</td>\n",
              "      <td>1246</td>\n",
              "      <td>84</td>\n",
              "      <td>12</td>\n",
              "    </tr>\n",
              "  </tbody>\n",
              "</table>\n",
              "</div>"
            ],
            "text/plain": [
              "  summary          char_count  ...    char_count_title   token_count_title\n",
              "0   count               50001  ...               50001               50001\n",
              "1    mean  1263.7543049139017  ...   54.32613347733045  6.3006339873202535\n",
              "2  stddev  470.62647495940723  ...  13.146924158437349   1.474631275286148\n",
              "3     min                 252  ...                  12                   1\n",
              "4     max                9282  ...                  84                  12\n",
              "\n",
              "[5 rows x 5 columns]"
            ]
          },
          "metadata": {},
          "execution_count": 168
        }
      ]
    },
    {
      "cell_type": "markdown",
      "source": [
        "# 4. Pipelines & Experiments"
      ],
      "metadata": {
        "id": "nSCP5pbiFfVm"
      }
    },
    {
      "cell_type": "markdown",
      "source": [
        "## 4.1 Text processing pipeline"
      ],
      "metadata": {
        "id": "50B2j__hkMB8"
      }
    },
    {
      "cell_type": "code",
      "source": [
        "%%time \n",
        "\n",
        "document_assembler = DocumentAssembler() \\\n",
        "    .setInputCol('text') \\\n",
        "    .setOutputCol('document')\n",
        "\n",
        "tokenizer = Tokenizer() \\\n",
        "    .setInputCols(['document']) \\\n",
        "    .setOutputCol('token')\n",
        "\n",
        "normalizer = Normalizer() \\\n",
        "      .setInputCols([\"token\"]) \\\n",
        "      .setLowercase(True) \\\n",
        "      .setOutputCol(\"normalized_token\")\n",
        "\n",
        "stopwords_cleaner = StopWordsCleaner.pretrained(\"stopwords_ru\", \"ru\")\\\n",
        "      .setInputCols(\"normalized_token\")\\\n",
        "      .setOutputCol(\"clean_token\")\\\n",
        "      .setCaseSensitive(False)\n",
        "\n",
        "lemmatizer = LemmatizerModel.pretrained(\"lemma\", \"ru\") \\\n",
        "        .setInputCols([\"clean_token\"]) \\\n",
        "        .setOutputCol(\"lemma\")\n",
        "\n",
        "preprocessing_pipeline = Pipeline(stages=[\n",
        "                                        document_assembler, \n",
        "                                        tokenizer,\n",
        "                                        normalizer,\n",
        "                                        stopwords_cleaner,\n",
        "                                        lemmatizer])"
      ],
      "metadata": {
        "colab": {
          "base_uri": "https://localhost:8080/"
        },
        "id": "hocr9bMghEEe",
        "outputId": "017d84c5-fc0f-4e46-ec39-d731351c8b54"
      },
      "execution_count": 203,
      "outputs": [
        {
          "output_type": "stream",
          "name": "stdout",
          "text": [
            "stopwords_ru download started this may take some time.\n",
            "Approximate size to download 2.9 KB\n",
            "[OK!]\n",
            "lemma download started this may take some time.\n",
            "Approximate size to download 1.3 MB\n",
            "[OK!]\n",
            "CPU times: user 122 ms, sys: 29 ms, total: 151 ms\n",
            "Wall time: 6.02 s\n"
          ]
        }
      ]
    },
    {
      "cell_type": "code",
      "source": [
        "%%time\n",
        "\n",
        "preprocessor_model = preprocessing_pipeline.fit(spark_df[['text']])\n",
        "doc_df = preprocessor_model.transform(spark_df[['text']])\n",
        "\n",
        "doc_df.printSchema()"
      ],
      "metadata": {
        "colab": {
          "base_uri": "https://localhost:8080/"
        },
        "id": "9aNUqaeNhEAV",
        "outputId": "036e65a7-882a-4f00-fb6a-6e936614db60"
      },
      "execution_count": 204,
      "outputs": [
        {
          "output_type": "stream",
          "name": "stdout",
          "text": [
            "root\n",
            " |-- text: string (nullable = true)\n",
            " |-- document: array (nullable = true)\n",
            " |    |-- element: struct (containsNull = true)\n",
            " |    |    |-- annotatorType: string (nullable = true)\n",
            " |    |    |-- begin: integer (nullable = false)\n",
            " |    |    |-- end: integer (nullable = false)\n",
            " |    |    |-- result: string (nullable = true)\n",
            " |    |    |-- metadata: map (nullable = true)\n",
            " |    |    |    |-- key: string\n",
            " |    |    |    |-- value: string (valueContainsNull = true)\n",
            " |    |    |-- embeddings: array (nullable = true)\n",
            " |    |    |    |-- element: float (containsNull = false)\n",
            " |-- token: array (nullable = true)\n",
            " |    |-- element: struct (containsNull = true)\n",
            " |    |    |-- annotatorType: string (nullable = true)\n",
            " |    |    |-- begin: integer (nullable = false)\n",
            " |    |    |-- end: integer (nullable = false)\n",
            " |    |    |-- result: string (nullable = true)\n",
            " |    |    |-- metadata: map (nullable = true)\n",
            " |    |    |    |-- key: string\n",
            " |    |    |    |-- value: string (valueContainsNull = true)\n",
            " |    |    |-- embeddings: array (nullable = true)\n",
            " |    |    |    |-- element: float (containsNull = false)\n",
            " |-- normalized_token: array (nullable = true)\n",
            " |    |-- element: struct (containsNull = true)\n",
            " |    |    |-- annotatorType: string (nullable = true)\n",
            " |    |    |-- begin: integer (nullable = false)\n",
            " |    |    |-- end: integer (nullable = false)\n",
            " |    |    |-- result: string (nullable = true)\n",
            " |    |    |-- metadata: map (nullable = true)\n",
            " |    |    |    |-- key: string\n",
            " |    |    |    |-- value: string (valueContainsNull = true)\n",
            " |    |    |-- embeddings: array (nullable = true)\n",
            " |    |    |    |-- element: float (containsNull = false)\n",
            " |-- clean_token: array (nullable = true)\n",
            " |    |-- element: struct (containsNull = true)\n",
            " |    |    |-- annotatorType: string (nullable = true)\n",
            " |    |    |-- begin: integer (nullable = false)\n",
            " |    |    |-- end: integer (nullable = false)\n",
            " |    |    |-- result: string (nullable = true)\n",
            " |    |    |-- metadata: map (nullable = true)\n",
            " |    |    |    |-- key: string\n",
            " |    |    |    |-- value: string (valueContainsNull = true)\n",
            " |    |    |-- embeddings: array (nullable = true)\n",
            " |    |    |    |-- element: float (containsNull = false)\n",
            " |-- lemma: array (nullable = true)\n",
            " |    |-- element: struct (containsNull = true)\n",
            " |    |    |-- annotatorType: string (nullable = true)\n",
            " |    |    |-- begin: integer (nullable = false)\n",
            " |    |    |-- end: integer (nullable = false)\n",
            " |    |    |-- result: string (nullable = true)\n",
            " |    |    |-- metadata: map (nullable = true)\n",
            " |    |    |    |-- key: string\n",
            " |    |    |    |-- value: string (valueContainsNull = true)\n",
            " |    |    |-- embeddings: array (nullable = true)\n",
            " |    |    |    |-- element: float (containsNull = false)\n",
            "\n",
            "CPU times: user 183 ms, sys: 38.2 ms, total: 221 ms\n",
            "Wall time: 502 ms\n"
          ]
        }
      ]
    },
    {
      "cell_type": "code",
      "source": [
        "# doc_df[['lemma']].show(n=10, truncate=150)"
      ],
      "metadata": {
        "id": "fkYY_cPwjsZ4"
      },
      "execution_count": 209,
      "outputs": []
    },
    {
      "cell_type": "code",
      "source": [
        "doc_df.withColumn(\n",
        "    \"tmp\", \n",
        "    F.explode(\"lemma\"))\\\n",
        "    .select(\"tmp.*\")\\\n",
        "    .show(truncate=False)"
      ],
      "metadata": {
        "colab": {
          "base_uri": "https://localhost:8080/"
        },
        "id": "UIRUuGIZlgDn",
        "outputId": "4cf67b2c-e548-47b1-c729-aa763a7aaf92"
      },
      "execution_count": 208,
      "outputs": [
        {
          "output_type": "stream",
          "name": "stdout",
          "text": [
            "+-------------+-----+---+--------------+---------------+----------+\n",
            "|annotatorType|begin|end|result        |metadata       |embeddings|\n",
            "+-------------+-----+---+--------------+---------------+----------+\n",
            "|token        |0    |10 |вицепремьер   |[sentence -> 0]|[]        |\n",
            "|token        |16   |25 |социальный    |[sentence -> 0]|[]        |\n",
            "|token        |27   |34 |вопрос        |[sentence -> 0]|[]        |\n",
            "|token        |36   |42 |татьяна       |[sentence -> 0]|[]        |\n",
            "|token        |44   |51 |голикова      |[sentence -> 0]|[]        |\n",
            "|token        |53   |62 |рассказать    |[sentence -> 0]|[]        |\n",
            "|token        |67   |71 |какой         |[sentence -> 0]|[]        |\n",
            "|token        |73   |80 |регион        |[sentence -> 0]|[]        |\n",
            "|token        |82   |87 |россии        |[sentence -> 0]|[]        |\n",
            "|token        |89   |101|фиксировать   |[sentence -> 0]|[]        |\n",
            "|token        |112  |118|высокий       |[sentence -> 0]|[]        |\n",
            "|token        |120  |129|смертность    |[sentence -> 0]|[]        |\n",
            "|token        |134  |137|рак           |[sentence -> 0]|[]        |\n",
            "|token        |140  |147|сообщать      |[sentence -> 0]|[]        |\n",
            "|token        |149  |151|риа           |[sentence -> 0]|[]        |\n",
            "|token        |153  |159|новость       |[sentence -> 0]|[]        |\n",
            "|token        |165  |170|слово         |[sentence -> 0]|[]        |\n",
            "|token        |172  |180|голиковой     |[sentence -> 0]|[]        |\n",
            "|token        |194  |207|онкологические|[sentence -> 0]|[]        |\n",
            "|token        |209  |219|заболевание   |[sentence -> 0]|[]        |\n",
            "+-------------+-----+---+--------------+---------------+----------+\n",
            "only showing top 20 rows\n",
            "\n"
          ]
        }
      ]
    },
    {
      "cell_type": "code",
      "source": [
        "%%time\n",
        "useEmbeddings = UniversalSentenceEncoder.pretrained()\\\n",
        "      .setInputCols(\"document\")\\\n",
        "      .setOutputCol(\"use_embeddings\")"
      ],
      "metadata": {
        "colab": {
          "base_uri": "https://localhost:8080/"
        },
        "id": "PVkKrX6lFdaI",
        "outputId": "e0095cd4-63d6-4ac9-d426-507ed0690b09"
      },
      "execution_count": 12,
      "outputs": [
        {
          "output_type": "stream",
          "name": "stdout",
          "text": [
            "tfhub_use download started this may take some time.\n",
            "Approximate size to download 923.7 MB\n",
            "[OK!]\n",
            "CPU times: user 1.1 s, sys: 235 ms, total: 1.34 s\n",
            "Wall time: 2min 51s\n"
          ]
        }
      ]
    },
    {
      "cell_type": "code",
      "source": [
        ""
      ],
      "metadata": {
        "id": "NtNLTzv6_uo0"
      },
      "execution_count": null,
      "outputs": []
    },
    {
      "cell_type": "code",
      "source": [
        ""
      ],
      "metadata": {
        "id": "szzofIhK_umb"
      },
      "execution_count": null,
      "outputs": []
    },
    {
      "cell_type": "code",
      "source": [
        ""
      ],
      "metadata": {
        "id": "95izc7kgFDur"
      },
      "execution_count": null,
      "outputs": []
    },
    {
      "cell_type": "code",
      "source": [
        ""
      ],
      "metadata": {
        "id": "3g56vTZ6FDrd"
      },
      "execution_count": null,
      "outputs": []
    },
    {
      "cell_type": "markdown",
      "metadata": {
        "id": "9RgiqfX5XDqb"
      },
      "source": [
        "## 3. Select the DL model"
      ]
    },
    {
      "cell_type": "code",
      "metadata": {
        "id": "LLuDz_t40be4"
      },
      "source": [
        "# If you change the model, re-run all the cells below.\n",
        "# Applicable models: wikiner_840B_300, wikiner_6B_300, wikiner_6B_100\n",
        "MODEL_NAME = \"wikiner_840B_300\""
      ],
      "execution_count": null,
      "outputs": []
    },
    {
      "cell_type": "markdown",
      "metadata": {
        "id": "2Y9GpdJhXIpD"
      },
      "source": [
        "## 4. Some sample examples"
      ]
    },
    {
      "cell_type": "code",
      "metadata": {
        "id": "vBOKkB2THdGI"
      },
      "source": [
        "# Enter examples to be transformed as strings in this list\n",
        "text_list = [\n",
        "    \"\"\"Уильям Генри Гейтс III (родился 28 октября 1955 года) - американский бизнес-магнат, разработчик программного обеспечения, инвестор и филантроп. Он наиболее известен как соучредитель корпорации Microsoft. За время своей карьеры в Microsoft Гейтс занимал должности председателя, главного исполнительного директора (CEO), президента и главного архитектора программного обеспечения, а также был крупнейшим индивидуальным акционером до мая 2014 года. Он является одним из самых известных предпринимателей и пионеров микрокомпьютерная революция 1970-х и 1980-х годов. Гейтс родился и вырос в Сиэтле, штат Вашингтон, в 1975 году вместе с другом детства Полом Алленом в Альбукерке, штат Нью-Мексико, и основал компанию Microsoft. она стала крупнейшей в мире компанией-разработчиком программного обеспечения для персональных компьютеров. Гейтс руководил компанией в качестве председателя и генерального директора, пока в январе 2000 года не ушел с поста генерального директора, но остался председателем и стал главным архитектором программного обеспечения. В конце 1990-х Гейтс подвергся критике за свою деловую тактику, которая считалась антиконкурентной. Это мнение было подтверждено многочисленными судебными решениями. В июне 2006 года Гейтс объявил, что перейдет на неполный рабочий день в Microsoft и будет работать на полную ставку в Фонде Билла и Мелинды Гейтс, частном благотворительном фонде, который он и его жена Мелинда Гейтс создали в 2000 году. [ 9] Постепенно он передал свои обязанности Рэю Оззи и Крейгу Манди. Он ушел с поста президента Microsoft в феврале 2014 года и занял новую должность консультанта по технологиям для поддержки вновь назначенного генерального директора Сатья Наделла.\"\"\",\n",
        "    \"\"\"Мона Лиза - картина маслом 16-го века, созданная Леонардо. Он проводится в Лувре в Париже.\"\"\"\n",
        "]"
      ],
      "execution_count": null,
      "outputs": []
    },
    {
      "cell_type": "markdown",
      "metadata": {
        "id": "XftYgju4XOw_"
      },
      "source": [
        "## 5. Define Spark NLP pipeline"
      ]
    },
    {
      "cell_type": "code",
      "metadata": {
        "id": "lBggF5P8J1gc",
        "colab": {
          "base_uri": "https://localhost:8080/"
        },
        "outputId": "07762d3c-60c5-453b-fb2f-90b00c28e0f7"
      },
      "source": [
        "document_assembler = DocumentAssembler() \\\n",
        "    .setInputCol('text') \\\n",
        "    .setOutputCol('document')\n",
        "\n",
        "tokenizer = Tokenizer() \\\n",
        "    .setInputCols(['document']) \\\n",
        "    .setOutputCol('token')\n",
        "\n",
        "# The wikiner_840B_300 is trained with glove_840B_300, so the embeddings in the\n",
        "# pipeline should match. Same applies for the other available models.\n",
        "if MODEL_NAME == \"wikiner_840B_300\":\n",
        "    embeddings = WordEmbeddingsModel.pretrained('glove_840B_300', lang='xx') \\\n",
        "        .setInputCols(['document', 'token']) \\\n",
        "        .setOutputCol('embeddings')\n",
        "elif MODEL_NAME == \"wikiner_6B_300\":\n",
        "    embeddings = WordEmbeddingsModel.pretrained('glove_6B_300', lang='xx') \\\n",
        "        .setInputCols(['document', 'token']) \\\n",
        "        .setOutputCol('embeddings')\n",
        "elif MODEL_NAME == \"wikiner_6B_100\":\n",
        "    embeddings = WordEmbeddingsModel.pretrained('glove_100d') \\\n",
        "        .setInputCols(['document', 'token']) \\\n",
        "        .setOutputCol('embeddings')\n",
        "\n",
        "ner_model = NerDLModel.pretrained(MODEL_NAME, 'ru') \\\n",
        "    .setInputCols(['document', 'token', 'embeddings']) \\\n",
        "    .setOutputCol('ner')\n",
        "\n",
        "ner_converter = NerConverter() \\\n",
        "    .setInputCols(['document', 'token', 'ner']) \\\n",
        "    .setOutputCol('ner_chunk')\n",
        "\n",
        "nlp_pipeline = Pipeline(stages=[\n",
        "    document_assembler, \n",
        "    tokenizer,\n",
        "    embeddings,\n",
        "    ner_model,\n",
        "    ner_converter\n",
        "])"
      ],
      "execution_count": null,
      "outputs": [
        {
          "output_type": "stream",
          "text": [
            "glove_840B_300 download started this may take some time.\n",
            "Approximate size to download 2.3 GB\n",
            "[OK!]\n",
            "wikiner_840B_300 download started this may take some time.\n",
            "Approximate size to download 14.4 MB\n",
            "[OK!]\n"
          ],
          "name": "stdout"
        }
      ]
    },
    {
      "cell_type": "markdown",
      "metadata": {
        "id": "mv0abcwhXWC-"
      },
      "source": [
        "## 6. Run the pipeline"
      ]
    },
    {
      "cell_type": "code",
      "metadata": {
        "id": "EYf_9sXDXR4t"
      },
      "source": [
        "empty_df = spark.createDataFrame([['']]).toDF('text')\n",
        "pipeline_model = nlp_pipeline.fit(empty_df)\n",
        "df = spark.createDataFrame(pd.DataFrame({'text': text_list}))\n",
        "result = pipeline_model.transform(df)"
      ],
      "execution_count": null,
      "outputs": []
    },
    {
      "cell_type": "markdown",
      "metadata": {
        "id": "UQY8tAP6XZJL"
      },
      "source": [
        "## 7. Visualize results"
      ]
    },
    {
      "cell_type": "code",
      "metadata": {
        "id": "Ar32BZu7J79X"
      },
      "source": [
        "from sparknlp_display import NerVisualizer\n",
        "\n",
        "NerVisualizer().display(\n",
        "    result = result.collect()[0],\n",
        "    label_col = 'ner_chunk',\n",
        "    document_col = 'document'\n",
        ")"
      ],
      "execution_count": null,
      "outputs": []
    }
  ]
}