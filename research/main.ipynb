{
  "nbformat": 4,
  "nbformat_minor": 0,
  "metadata": {
    "colab": {
      "name": "bigdata-project",
      "provenance": [],
      "collapsed_sections": []
    },
    "kernelspec": {
      "name": "python3",
      "display_name": "Python 3"
    },
    "accelerator": "GPU"
  },
  "cells": [
    {
      "cell_type": "markdown",
      "metadata": {
        "id": "TA21Jo5d9SVq"
      },
      "source": [
        "\n",
        "### BigData Project on\n",
        "# NLP for russian language via SparkNLP\n",
        "\n",
        "Vadim Alperovich <br>\n",
        "IAD21\n",
        "\n",
        "[![Go to colab](https://colab.research.google.com/assets/colab-badge.svg)](https://colab.research.google.com/drive/1WpuuDQSxczxT95MxYoOewBnDqKZ9pVOE?authuser=3#scrollTo=TA21Jo5d9SVq)\n",
        "\n",
        "\n"
      ]
    },
    {
      "cell_type": "markdown",
      "metadata": {
        "id": "wIeCOiJNW-88"
      },
      "source": [
        "# 1. Colab-Spark setup"
      ]
    },
    {
      "cell_type": "code",
      "metadata": {
        "id": "CGJktFHdHL1n",
        "colab": {
          "base_uri": "https://localhost:8080/",
          "height": 53
        },
        "outputId": "9bb57a34-4398-4f2f-fcce-bc2e9c326ebd"
      },
      "source": [
        "%%time\n",
        "from IPython.display import clear_output\n",
        "!wget http://setup.johnsnowlabs.com/colab.sh -O - | bash\n",
        "\n",
        "# Install Spark NLP Display for visualization\n",
        "!pip install --ignore-installed spark-nlp-display\n",
        "clear_output(wait=True)"
      ],
      "execution_count": 1,
      "outputs": [
        {
          "output_type": "stream",
          "name": "stdout",
          "text": [
            "CPU times: user 282 ms, sys: 69.6 ms, total: 352 ms\n",
            "Wall time: 24.1 s\n"
          ]
        }
      ]
    },
    {
      "cell_type": "code",
      "source": [
        "%%time\n",
        "import sparknlp\n",
        "import pyspark.sql.functions as F\n",
        "import pyspark.sql.types as T\n",
        "\n",
        "from pyspark.ml import Pipeline\n",
        "from pyspark.sql import SparkSession\n",
        "from sparknlp.annotator import *\n",
        "from sparknlp.base import *\n",
        "from sparknlp.pretrained import PretrainedPipeline\n",
        "\n",
        "spark = sparknlp.start()"
      ],
      "metadata": {
        "colab": {
          "base_uri": "https://localhost:8080/"
        },
        "id": "xSxDlq8a-8SA",
        "outputId": "2cbefa33-6968-4cb4-bdd6-4fd90124f19b"
      },
      "execution_count": 2,
      "outputs": [
        {
          "output_type": "stream",
          "name": "stdout",
          "text": [
            "CPU times: user 351 ms, sys: 55 ms, total: 406 ms\n",
            "Wall time: 13.5 s\n"
          ]
        }
      ]
    },
    {
      "cell_type": "markdown",
      "source": [
        "# 2. Data loading"
      ],
      "metadata": {
        "id": "gs5HEsVh_Syl"
      }
    },
    {
      "cell_type": "code",
      "source": [
        "from google.colab import drive\n",
        "drive.mount('/content/drive')\n",
        "PROJECT_FOLDER = '/content/drive/MyDrive/spark-project/'\n",
        "%ls {PROJECT_FOLDER}"
      ],
      "metadata": {
        "colab": {
          "base_uri": "https://localhost:8080/"
        },
        "id": "E4xN52TZAA67",
        "outputId": "b6e52ac3-6ad3-44e3-99da-fa49c70348d5"
      },
      "execution_count": 3,
      "outputs": [
        {
          "output_type": "stream",
          "name": "stdout",
          "text": [
            "Drive already mounted at /content/drive; to attempt to forcibly remount, call drive.mount(\"/content/drive\", force_remount=True).\n",
            "bigdata-project  \u001b[0m\u001b[01;34mdata\u001b[0m/\n"
          ]
        }
      ]
    },
    {
      "cell_type": "code",
      "source": [
        "%%time\n",
        "# download the Lenta.ru v1.0 russian news dataset\n",
        "# !wget https://github.com/yutkin/Lenta.Ru-News-Dataset/releases/download/v1.0/lenta-ru-news.csv.gz -P {PROJECT_FOLDER}/data\n",
        "# download supporting library\n",
        "!pip install corus\n",
        "clear_output(wait=True)"
      ],
      "metadata": {
        "colab": {
          "base_uri": "https://localhost:8080/"
        },
        "id": "XpzNx-q7_Wpr",
        "outputId": "780e5153-8981-4668-f66f-bc79cae7c215"
      },
      "execution_count": 4,
      "outputs": [
        {
          "output_type": "stream",
          "name": "stdout",
          "text": [
            "CPU times: user 45.5 ms, sys: 18.4 ms, total: 63.9 ms\n",
            "Wall time: 3.34 s\n"
          ]
        }
      ]
    },
    {
      "cell_type": "code",
      "source": [
        "import json\n",
        "import corus\n",
        "import pandas as pd\n",
        "import numpy as np\n",
        "import warnings\n",
        "\n",
        "warnings.simplefilter('ignore')"
      ],
      "metadata": {
        "id": "LMF5FN_OCvMx"
      },
      "execution_count": 59,
      "outputs": []
    },
    {
      "cell_type": "code",
      "metadata": {
        "id": "sw-t1zxlHTB7",
        "colab": {
          "base_uri": "https://localhost:8080/"
        },
        "outputId": "a247422c-fa8b-4223-aa96-436035c5d013"
      },
      "source": [
        "# %%time\n",
        "# from corus import load_lenta\n",
        "\n",
        "# records = load_lenta(path)\n",
        "# l = []\n",
        "# for i, r in enumerate(records):\n",
        "#     if i > 50000:\n",
        "#         break\n",
        "#     l.append(list(r))\n",
        "# df = pd.DataFrame(l, columns=['url', 'title', 'text', 'topic', 'tags', 'date'])\n",
        "# df.to_csv(f'{PROJECT_FOLDER}/data/lenta-ru-news50000.csv', sep='\\t', index=None)"
      ],
      "execution_count": 120,
      "outputs": [
        {
          "output_type": "stream",
          "name": "stdout",
          "text": [
            "CPU times: user 4.35 s, sys: 257 ms, total: 4.61 s\n",
            "Wall time: 5.07 s\n"
          ]
        }
      ]
    },
    {
      "cell_type": "code",
      "source": [
        "# %%time\n",
        "# path = f'{PROJECT_FOLDER}/data/lenta-ru-news.csv.gz'\n",
        "\n",
        "# df = pd.read_csv(path, nrows=50000, compression='gzip')\n",
        "# df.head()\n",
        "# df.to_csv(f'{PROJECT_FOLDER}/data/lenta-ru-news50000.csv', sep='\\t', index=None)"
      ],
      "metadata": {
        "id": "3XC0UJoA_utu"
      },
      "execution_count": 88,
      "outputs": []
    },
    {
      "cell_type": "code",
      "source": [
        "spark_df = spark.read \\\n",
        "      .option(\"inferSchema\",\"true\") \\\n",
        "      .option(\"header\", True) \\\n",
        "      .csv(f'{PROJECT_FOLDER}/data/lenta-ru-news50000.csv', sep='\\t')\n",
        "print(f'Hell yeah, spark_df is {type(spark_df)}!')\n",
        "print(f'spark_df has {spark_df.count()} rows')\n",
        "spark_df"
      ],
      "metadata": {
        "colab": {
          "base_uri": "https://localhost:8080/"
        },
        "id": "viz4XH8k_urW",
        "outputId": "12a3ceec-5152-422c-ba93-dbe019f492ea"
      },
      "execution_count": 6,
      "outputs": [
        {
          "output_type": "stream",
          "name": "stdout",
          "text": [
            "Hell yeah, spark_df is <class 'pyspark.sql.dataframe.DataFrame'>!\n",
            "spark_df has 50001 rows\n"
          ]
        },
        {
          "output_type": "execute_result",
          "data": {
            "text/plain": [
              "DataFrame[url: string, title: string, text: string, topic: string, tags: string, date: string]"
            ]
          },
          "metadata": {},
          "execution_count": 6
        }
      ]
    },
    {
      "cell_type": "code",
      "source": [
        "spark_df.show(n=10, truncate=30)"
      ],
      "metadata": {
        "colab": {
          "base_uri": "https://localhost:8080/"
        },
        "id": "5gv6_3nAIUmu",
        "outputId": "4f230455-4070-48da-b749-040f84a3a75b"
      },
      "execution_count": 7,
      "outputs": [
        {
          "output_type": "stream",
          "name": "stdout",
          "text": [
            "+------------------------------+------------------------------+------------------------------+-----------------+---------------+----+\n",
            "|                           url|                         title|                          text|            topic|           tags|date|\n",
            "+------------------------------+------------------------------+------------------------------+-----------------+---------------+----+\n",
            "|https://lenta.ru/news/2018/...|Названы регионы России с са...|Вице-премьер по социальным ...|           Россия|       Общество|null|\n",
            "|https://lenta.ru/news/2018/...|Австрия не представила дока...|Австрийские правоохранитель...|            Спорт|    Зимние виды|null|\n",
            "|https://lenta.ru/news/2018/...|Обнаружено самое счастливое...|Сотрудники социальной сети ...|      Путешествия|            Мир|null|\n",
            "|https://lenta.ru/news/2018/...|В США раскрыли сумму расход...|С начала расследования росс...|              Мир|       Политика|null|\n",
            "|https://lenta.ru/news/2018/...|Хакеры рассказали о планах ...|Хакерская группировка Anony...|              Мир|       Общество|null|\n",
            "|https://lenta.ru/news/2018/...|Архиепископ канонической УП...|Архиепископ канонической Ук...|      Бывший СССР|        Украина|null|\n",
            "|https://lenta.ru/news/2018/...|Российскую молодежь предлож...|Российская молодежь лучше у...|   Интернет и СМИ|        Coцсети|null|\n",
            "|https://lenta.ru/news/2018/...|Полицейские из Солсбери опи...|Полицейские Алекс Коллинс и...|              Мир|       Общество|null|\n",
            "|https://lenta.ru/news/2018/...|Полет российских бомбардиро...|Минобороны опубликовало на ...|              Мир|       Политика|null|\n",
            "|https://lenta.ru/news/2018/...|В Минобороны раскрыли много...|Директора завода «Электропр...|Силовые структуры|Следствие и суд|null|\n",
            "+------------------------------+------------------------------+------------------------------+-----------------+---------------+----+\n",
            "only showing top 10 rows\n",
            "\n"
          ]
        }
      ]
    },
    {
      "cell_type": "markdown",
      "source": [
        "# 3. EDA & Preprocessing"
      ],
      "metadata": {
        "id": "_OvH9OyCJuKp"
      }
    },
    {
      "cell_type": "code",
      "source": [
        "spark_df = spark_df.filter(F.col('text').isNotNull() & F.col('topic').isNotNull() & F.col('tags').isNotNull())\n",
        "spark_df = spark_df.filter(F.col('text') != '')\n",
        "print(f'Count after filtering: {spark_df.count()}')"
      ],
      "metadata": {
        "colab": {
          "base_uri": "https://localhost:8080/"
        },
        "id": "nYQQxK5Ege8j",
        "outputId": "890172e7-87c4-4b33-fd79-b47015449158"
      },
      "execution_count": 9,
      "outputs": [
        {
          "output_type": "stream",
          "name": "stdout",
          "text": [
            "Count after filtering: 49129\n"
          ]
        }
      ]
    },
    {
      "cell_type": "code",
      "source": [
        "column = 'topic'\n",
        "topic_unique = spark_df.select(column).distinct().count()\n",
        "print(f'*{column}* columns has {topic_unique} unique values', )\n",
        "spark_df.select(column).groupBy(column).count().orderBy(F.desc('count')).show(n=30)"
      ],
      "metadata": {
        "colab": {
          "base_uri": "https://localhost:8080/"
        },
        "id": "XuE4erFmLlP-",
        "outputId": "1eba88e7-5234-4f3a-dab2-3223cc6c4be0"
      },
      "execution_count": 10,
      "outputs": [
        {
          "output_type": "stream",
          "name": "stdout",
          "text": [
            "*topic* columns has 18 unique values\n",
            "+-----------------+-----+\n",
            "|            topic|count|\n",
            "+-----------------+-----+\n",
            "|              Мир| 6896|\n",
            "|           Россия| 6830|\n",
            "|            Спорт| 4912|\n",
            "|        Экономика| 4716|\n",
            "|   Интернет и СМИ| 3886|\n",
            "|  Наука и техника| 3511|\n",
            "|         Из жизни| 3320|\n",
            "|      Бывший СССР| 3214|\n",
            "|         Культура| 3169|\n",
            "|Силовые структуры| 2681|\n",
            "|              Дом| 2088|\n",
            "|         Ценности| 2056|\n",
            "|      Путешествия| 1197|\n",
            "|   69-я параллель|  423|\n",
            "|             Крым|  150|\n",
            "|    Культпросвет |   77|\n",
            "|           Бизнес|    2|\n",
            "|           Оружие|    1|\n",
            "+-----------------+-----+\n",
            "\n"
          ]
        }
      ]
    },
    {
      "cell_type": "code",
      "source": [
        "column = 'tags'\n",
        "tags_unique = spark_df.select(column).distinct().count()\n",
        "print(f'*{column}* columns has {tags_unique} unique values', )\n",
        "spark_df.select(column).groupBy(column).count().orderBy(F.desc('count')).show(n=30)"
      ],
      "metadata": {
        "colab": {
          "base_uri": "https://localhost:8080/"
        },
        "id": "obo8hgpQLlOo",
        "outputId": "3b9579d6-8863-47d2-a192-bf5541bc8430"
      },
      "execution_count": 11,
      "outputs": [
        {
          "output_type": "stream",
          "name": "stdout",
          "text": [
            "*tags* columns has 79 unique values\n",
            "+--------------------+-----+\n",
            "|                tags|count|\n",
            "+--------------------+-----+\n",
            "|            Политика| 5521|\n",
            "|            Общество| 4501|\n",
            "|        Происшествия| 2933|\n",
            "|              Футбол| 2798|\n",
            "|             Украина| 2548|\n",
            "|        Госэкономика| 2390|\n",
            "|            Интернет| 1987|\n",
            "|                Кино| 1486|\n",
            "|     Следствие и суд| 1473|\n",
            "|            Квартира| 1371|\n",
            "|              Музыка| 1229|\n",
            "|                Люди| 1177|\n",
            "|              Оружие| 1144|\n",
            "|              Бизнес|  882|\n",
            "|             Регионы|  851|\n",
            "|               Наука|  820|\n",
            "|         Зимние виды|  816|\n",
            "|               Звери|  814|\n",
            "|           Конфликты|  770|\n",
            "|             Явления|  729|\n",
            "|              Космос|  699|\n",
            "|          ТВ и радио|  696|\n",
            "|          Бокс и ММА|  682|\n",
            "|            Криминал|  573|\n",
            "|               Стиль|  571|\n",
            "|      Деловой климат|  562|\n",
            "|             События|  554|\n",
            "|        Преступность|  539|\n",
            "|             Coцсети|  527|\n",
            "|Полиция и спецслужбы|  512|\n",
            "+--------------------+-----+\n",
            "only showing top 30 rows\n",
            "\n"
          ]
        }
      ]
    },
    {
      "cell_type": "code",
      "source": [
        "def get_token_count(text, token_len=False):\n",
        "    if token_len:\n",
        "        return len(text.split(' '))\n",
        "    return len(text)\n",
        "\n",
        "spark_get_char_count = F.udf(lambda x: get_token_count(x), T.IntegerType())\n",
        "spark_get_token_count = F.udf(lambda x: get_token_count(x, token_len=True), T.IntegerType())"
      ],
      "metadata": {
        "id": "B-skhW7cbyHw"
      },
      "execution_count": 12,
      "outputs": []
    },
    {
      "cell_type": "code",
      "source": [
        "%%time\n",
        "# ```text``` stats\n",
        "spark_df = spark_df.withColumn(\"char_count\", spark_get_char_count(F.col(\"text\")))\n",
        "spark_df = spark_df.withColumn(\"token_count\", spark_get_token_count(F.col(\"text\")))\n",
        "# ```title``` stats\n",
        "spark_df = spark_df.withColumn(\"char_count_title\", spark_get_char_count(F.col(\"title\")))\n",
        "spark_df = spark_df.withColumn(\"token_count_title\", spark_get_token_count(F.col(\"title\")))"
      ],
      "metadata": {
        "colab": {
          "base_uri": "https://localhost:8080/"
        },
        "id": "M1_g-QOhJsL4",
        "outputId": "7b7da05d-fe36-46f3-b958-4fa357d6e601"
      },
      "execution_count": 13,
      "outputs": [
        {
          "output_type": "stream",
          "name": "stdout",
          "text": [
            "CPU times: user 29.2 ms, sys: 9.35 ms, total: 38.6 ms\n",
            "Wall time: 224 ms\n"
          ]
        }
      ]
    },
    {
      "cell_type": "code",
      "source": [
        "spark_df.show(n=5, truncate=10)"
      ],
      "metadata": {
        "colab": {
          "base_uri": "https://localhost:8080/"
        },
        "id": "cO-tHYyzKTgu",
        "outputId": "4f2b3c47-e1ad-4ca8-d04e-b76017cb62e4"
      },
      "execution_count": 14,
      "outputs": [
        {
          "output_type": "stream",
          "name": "stdout",
          "text": [
            "+----------+----------+----------+----------+----------+----+----------+-----------+----------------+-----------------+\n",
            "|       url|     title|      text|     topic|      tags|date|char_count|token_count|char_count_title|token_count_title|\n",
            "+----------+----------+----------+----------+----------+----+----------+-----------+----------------+-----------------+\n",
            "|https:/...|Названы...|Вице-пр...|    Россия|  Общество|null|       660|         92|              58|                7|\n",
            "|https:/...|Австрия...|Австрий...|     Спорт|Зимние ...|null|      1072|        137|              65|                6|\n",
            "|https:/...|Обнаруж...|Сотрудн...|Путешес...|       Мир|null|       961|        120|              44|                5|\n",
            "|https:/...|В США р...|С начал...|       Мир|  Политика|null|      1347|        189|              65|                8|\n",
            "|https:/...|Хакеры ...|Хакерск...|       Мир|  Общество|null|      2066|        255|              66|                6|\n",
            "+----------+----------+----------+----------+----------+----+----------+-----------+----------------+-----------------+\n",
            "only showing top 5 rows\n",
            "\n"
          ]
        }
      ]
    },
    {
      "cell_type": "code",
      "source": [
        "spark_df.select('char_count', 'token_count', 'char_count_title', 'token_count_title').describe().show()"
      ],
      "metadata": {
        "colab": {
          "base_uri": "https://localhost:8080/"
        },
        "id": "y5rSewnWKTPR",
        "outputId": "26bf7225-a3d4-41c3-d923-22bf82fea7d5"
      },
      "execution_count": 15,
      "outputs": [
        {
          "output_type": "stream",
          "name": "stdout",
          "text": [
            "+-------+------------------+------------------+------------------+------------------+\n",
            "|summary|        char_count|       token_count|  char_count_title| token_count_title|\n",
            "+-------+------------------+------------------+------------------+------------------+\n",
            "|  count|             49129|             49129|             49129|             49129|\n",
            "|   mean| 1265.777198803151|173.11160414419183| 54.30859573775163| 6.301736245394777|\n",
            "| stddev|470.70315275350913| 63.12842848537941|13.135353121587741|1.4749514018188228|\n",
            "|    min|               252|                31|                12|                 1|\n",
            "|    max|              9282|              1246|                84|                12|\n",
            "+-------+------------------+------------------+------------------+------------------+\n",
            "\n"
          ]
        }
      ]
    },
    {
      "cell_type": "markdown",
      "source": [
        "# 4. Pipelines & Experiments"
      ],
      "metadata": {
        "id": "nSCP5pbiFfVm"
      }
    },
    {
      "cell_type": "markdown",
      "source": [
        "## 4.1 Text processing pipeline"
      ],
      "metadata": {
        "id": "50B2j__hkMB8"
      }
    },
    {
      "cell_type": "code",
      "source": [
        "%%time \n",
        "\n",
        "document_assembler = DocumentAssembler() \\\n",
        "    .setInputCol('text') \\\n",
        "    .setOutputCol('document')\n",
        "\n",
        "tokenizer = Tokenizer() \\\n",
        "    .setInputCols(['document']) \\\n",
        "    .setOutputCol('token')\n",
        "\n",
        "normalizer = Normalizer() \\\n",
        "      .setInputCols([\"token\"]) \\\n",
        "      .setLowercase(True) \\\n",
        "      .setOutputCol(\"normalized_token\")\n",
        "\n",
        "stopwords_cleaner = StopWordsCleaner.pretrained(\"stopwords_ru\", \"ru\")\\\n",
        "      .setInputCols(\"normalized_token\")\\\n",
        "      .setOutputCol(\"clean_token\")\\\n",
        "      .setCaseSensitive(False)\n",
        "\n",
        "lemmatizer = LemmatizerModel.pretrained(\"lemma\", \"ru\") \\\n",
        "        .setInputCols([\"clean_token\"]) \\\n",
        "        .setOutputCol(\"lemma\")\n",
        "\n",
        "finisher = Finisher() \\\n",
        "      .setInputCols([\"lemma\"]) \\\n",
        "      .setOutputCols([\"token_features\"]) \\\n",
        "      .setOutputAsArray(True) \\\n",
        "      .setCleanAnnotations(False)\n",
        "\n",
        "preprocessing_pipeline = Pipeline(stages=[\n",
        "                                  document_assembler, \n",
        "                                  tokenizer,\n",
        "                                  normalizer,\n",
        "                                  stopwords_cleaner,\n",
        "                                  lemmatizer,\n",
        "                                  finisher])"
      ],
      "metadata": {
        "colab": {
          "base_uri": "https://localhost:8080/"
        },
        "id": "hocr9bMghEEe",
        "outputId": "0de585b1-fb10-4bbc-a8a5-fd94b7da6a87"
      },
      "execution_count": 16,
      "outputs": [
        {
          "output_type": "stream",
          "name": "stdout",
          "text": [
            "stopwords_ru download started this may take some time.\n",
            "Approximate size to download 2.9 KB\n",
            "[OK!]\n",
            "lemma download started this may take some time.\n",
            "Approximate size to download 1.3 MB\n",
            "[OK!]\n",
            "CPU times: user 211 ms, sys: 38 ms, total: 249 ms\n",
            "Wall time: 18.6 s\n"
          ]
        }
      ]
    },
    {
      "cell_type": "code",
      "source": [
        "%%time\n",
        "preprocessor_model = preprocessing_pipeline.fit(spark_df[['text']])\n",
        "doc_df = preprocessor_model.transform(spark_df[['text']])\n",
        "doc_df.printSchema()"
      ],
      "metadata": {
        "colab": {
          "base_uri": "https://localhost:8080/"
        },
        "id": "9aNUqaeNhEAV",
        "outputId": "c89cc744-25f4-41a1-8186-11103fe851d0"
      },
      "execution_count": 117,
      "outputs": [
        {
          "output_type": "stream",
          "name": "stdout",
          "text": [
            "root\n",
            " |-- text: string (nullable = true)\n",
            " |-- document: array (nullable = true)\n",
            " |    |-- element: struct (containsNull = true)\n",
            " |    |    |-- annotatorType: string (nullable = true)\n",
            " |    |    |-- begin: integer (nullable = false)\n",
            " |    |    |-- end: integer (nullable = false)\n",
            " |    |    |-- result: string (nullable = true)\n",
            " |    |    |-- metadata: map (nullable = true)\n",
            " |    |    |    |-- key: string\n",
            " |    |    |    |-- value: string (valueContainsNull = true)\n",
            " |    |    |-- embeddings: array (nullable = true)\n",
            " |    |    |    |-- element: float (containsNull = false)\n",
            " |-- token: array (nullable = true)\n",
            " |    |-- element: struct (containsNull = true)\n",
            " |    |    |-- annotatorType: string (nullable = true)\n",
            " |    |    |-- begin: integer (nullable = false)\n",
            " |    |    |-- end: integer (nullable = false)\n",
            " |    |    |-- result: string (nullable = true)\n",
            " |    |    |-- metadata: map (nullable = true)\n",
            " |    |    |    |-- key: string\n",
            " |    |    |    |-- value: string (valueContainsNull = true)\n",
            " |    |    |-- embeddings: array (nullable = true)\n",
            " |    |    |    |-- element: float (containsNull = false)\n",
            " |-- normalized_token: array (nullable = true)\n",
            " |    |-- element: struct (containsNull = true)\n",
            " |    |    |-- annotatorType: string (nullable = true)\n",
            " |    |    |-- begin: integer (nullable = false)\n",
            " |    |    |-- end: integer (nullable = false)\n",
            " |    |    |-- result: string (nullable = true)\n",
            " |    |    |-- metadata: map (nullable = true)\n",
            " |    |    |    |-- key: string\n",
            " |    |    |    |-- value: string (valueContainsNull = true)\n",
            " |    |    |-- embeddings: array (nullable = true)\n",
            " |    |    |    |-- element: float (containsNull = false)\n",
            " |-- clean_token: array (nullable = true)\n",
            " |    |-- element: struct (containsNull = true)\n",
            " |    |    |-- annotatorType: string (nullable = true)\n",
            " |    |    |-- begin: integer (nullable = false)\n",
            " |    |    |-- end: integer (nullable = false)\n",
            " |    |    |-- result: string (nullable = true)\n",
            " |    |    |-- metadata: map (nullable = true)\n",
            " |    |    |    |-- key: string\n",
            " |    |    |    |-- value: string (valueContainsNull = true)\n",
            " |    |    |-- embeddings: array (nullable = true)\n",
            " |    |    |    |-- element: float (containsNull = false)\n",
            " |-- lemma: array (nullable = true)\n",
            " |    |-- element: struct (containsNull = true)\n",
            " |    |    |-- annotatorType: string (nullable = true)\n",
            " |    |    |-- begin: integer (nullable = false)\n",
            " |    |    |-- end: integer (nullable = false)\n",
            " |    |    |-- result: string (nullable = true)\n",
            " |    |    |-- metadata: map (nullable = true)\n",
            " |    |    |    |-- key: string\n",
            " |    |    |    |-- value: string (valueContainsNull = true)\n",
            " |    |    |-- embeddings: array (nullable = true)\n",
            " |    |    |    |-- element: float (containsNull = false)\n",
            " |-- token_features: array (nullable = true)\n",
            " |    |-- element: string (containsNull = true)\n",
            "\n",
            "CPU times: user 185 ms, sys: 41 ms, total: 226 ms\n",
            "Wall time: 592 ms\n"
          ]
        }
      ]
    },
    {
      "cell_type": "code",
      "source": [
        "doc_df[['text', 'token_features']].show(n=10, truncate=50)"
      ],
      "metadata": {
        "colab": {
          "base_uri": "https://localhost:8080/"
        },
        "id": "fkYY_cPwjsZ4",
        "outputId": "821cb5bd-b218-484a-f56d-4f128dd0f90e"
      },
      "execution_count": 118,
      "outputs": [
        {
          "output_type": "stream",
          "name": "stdout",
          "text": [
            "+--------------------------------------------------+--------------------------------------------------+\n",
            "|                                              text|                                    token_features|\n",
            "+--------------------------------------------------+--------------------------------------------------+\n",
            "|Вице-премьер по социальным вопросам Татьяна Гол...|[вицепремьер, социальный, вопрос, татьяна, голи...|\n",
            "|Австрийские правоохранительные органы не предст...|[австрийский, правоохранительный, орган, предст...|\n",
            "|Сотрудники социальной сети Instagram проанализи...|[сотрудник, социальный, сеть, instagram, анализ...|\n",
            "|С начала расследования российского вмешательств...|[расследование, российский, вмешательство, выбо...|\n",
            "|Хакерская группировка Anonymous опубликовала но...|[хакерская, группировка, anonymous, опубликоват...|\n",
            "|Архиепископ канонической Украинской православно...|[архиепископ, канонической, украинский, правосл...|\n",
            "|Российская молодежь лучше усвоит духовные ценно...|[российский, молодежь, усвоит, духовный, ценнос...|\n",
            "|Полицейские Алекс Коллинс и Трейси Холлоуэй, ок...|[полицейский, алекс, коллинс, трейси, холлоуэй,...|\n",
            "|Минобороны опубликовало на YouTube видео полета...|[минобороны, опубликовать, youtube, видео, поле...|\n",
            "|Директора завода «Электроприбор» Муталиба Эмира...|[директор, завод, электроприбор, муталиба, эмир...|\n",
            "+--------------------------------------------------+--------------------------------------------------+\n",
            "only showing top 10 rows\n",
            "\n"
          ]
        }
      ]
    },
    {
      "cell_type": "code",
      "source": [
        "# doc_df.withColumn(\n",
        "#     \"tmp\", \n",
        "#     F.explode(\"lemma\"))\\\n",
        "#     .select(\"tmp.*\")\\\n",
        "#     .show(truncate=False)"
      ],
      "metadata": {
        "id": "UIRUuGIZlgDn"
      },
      "execution_count": 44,
      "outputs": []
    },
    {
      "cell_type": "markdown",
      "source": [
        "# 4.2 Bag-of-Words + LogReg"
      ],
      "metadata": {
        "id": "8MO1NPSWYBIS"
      }
    },
    {
      "cell_type": "code",
      "source": [
        "from pyspark.ml.feature import CountVectorizer, HashingTF, IDF, OneHotEncoder, StringIndexer, VectorAssembler, SQLTransformer"
      ],
      "metadata": {
        "id": "JyaqH0IIadhr"
      },
      "execution_count": 17,
      "outputs": []
    },
    {
      "cell_type": "code",
      "source": [
        "countVectors = CountVectorizer(inputCol=\"token_features\", outputCol=\"features\", vocabSize=5000, minDF=15)\n",
        "\n",
        "label_stringIdx = StringIndexer(inputCol=\"topic\", outputCol=\"label\")\n",
        "\n",
        "bow_pipeline = Pipeline(\n",
        "    stages=preprocessing_pipeline.getStages()+[countVectors, label_stringIdx])\n",
        "bow_pipeline.getStages()"
      ],
      "metadata": {
        "colab": {
          "base_uri": "https://localhost:8080/"
        },
        "id": "X5nfOHgPSWre",
        "outputId": "a6c2a162-0810-4437-e08c-253c4f4293e8"
      },
      "execution_count": 18,
      "outputs": [
        {
          "output_type": "execute_result",
          "data": {
            "text/plain": [
              "[DocumentAssembler_eb4295413d1c,\n",
              " Tokenizer_3a1695ba49e4,\n",
              " Normalizer_7f7548997923,\n",
              " STOPWORDS_CLEANER_3187062cd9db,\n",
              " LEMMATIZER_59ad4a12c2e7,\n",
              " Finisher_545f9675b8de,\n",
              " CountVectorizer_8ef60df81603,\n",
              " StringIndexer_5f2f27402673]"
            ]
          },
          "metadata": {},
          "execution_count": 18
        }
      ]
    },
    {
      "cell_type": "code",
      "source": [
        "%%time\n",
        "bow_model = bow_pipeline.fit(spark_df[['text', 'topic']])\n",
        "bow_df = bow_model.transform(spark_df[['text', 'topic']])"
      ],
      "metadata": {
        "colab": {
          "base_uri": "https://localhost:8080/"
        },
        "id": "tAOfUf4tSWlg",
        "outputId": "0d78de48-07c5-43fe-db52-a086d5fe8728"
      },
      "execution_count": 19,
      "outputs": [
        {
          "output_type": "stream",
          "name": "stdout",
          "text": [
            "CPU times: user 1.39 s, sys: 226 ms, total: 1.62 s\n",
            "Wall time: 2min 38s\n"
          ]
        }
      ]
    },
    {
      "cell_type": "code",
      "source": [
        "bow_df.select('token_features', 'features', 'label', 'topic').show(truncate=50)"
      ],
      "metadata": {
        "colab": {
          "base_uri": "https://localhost:8080/"
        },
        "id": "p2GxKcC1cEPc",
        "outputId": "b6d85354-855f-41a4-84b0-849b9cd2858d"
      },
      "execution_count": 20,
      "outputs": [
        {
          "output_type": "stream",
          "name": "stdout",
          "text": [
            "+--------------------------------------------------+--------------------------------------------------+-----+-----------------+\n",
            "|                                    token_features|                                          features|label|            topic|\n",
            "+--------------------------------------------------+--------------------------------------------------+-----+-----------------+\n",
            "|[вицепремьер, социальный, вопрос, татьяна, голи...|(5000,[0,1,3,13,14,15,26,36,54,63,81,83,84,85,1...|  1.0|           Россия|\n",
            "|[австрийский, правоохранительный, орган, предст...|(5000,[1,2,5,11,22,40,57,61,62,70,101,113,115,1...|  2.0|            Спорт|\n",
            "|[сотрудник, социальный, сеть, instagram, анализ...|(5000,[0,5,14,30,32,48,52,65,86,91,115,123,168,...| 12.0|      Путешествия|\n",
            "|[расследование, российский, вмешательство, выбо...|(5000,[0,2,6,7,15,16,19,26,31,33,48,60,61,80,82...|  0.0|              Мир|\n",
            "|[хакерская, группировка, anonymous, опубликоват...|(5000,[1,2,5,10,22,26,30,32,39,43,55,58,60,64,6...|  0.0|              Мир|\n",
            "|[архиепископ, канонической, украинский, правосл...|(5000,[5,6,12,16,22,38,39,49,51,53,61,66,84,90,...|  7.0|      Бывший СССР|\n",
            "|[российский, молодежь, усвоит, духовный, ценнос...|(5000,[2,3,10,12,13,14,16,31,44,45,54,87,88,94,...|  4.0|   Интернет и СМИ|\n",
            "|[полицейский, алекс, коллинс, трейси, холлоуэй,...|(5000,[3,12,13,14,17,20,23,25,29,48,57,59,60,62...|  0.0|              Мир|\n",
            "|[минобороны, опубликовать, youtube, видео, поле...|(5000,[2,5,24,30,56,61,77,80,86,103,105,110,118...|  0.0|              Мир|\n",
            "|[директор, завод, электроприбор, муталиба, эмир...|(5000,[0,1,9,14,17,36,37,49,50,51,71,99,119,131...|  9.0|Силовые структуры|\n",
            "|[житель, великобритании, платить, евро, посещен...|(5000,[0,5,14,34,41,42,50,59,61,67,75,78,85,109...|  0.0|              Мир|\n",
            "|[капитан, вашингтона, александр, овечкин, делат...|(5000,[0,23,37,52,133,139,156,176,182,191,239,3...|  2.0|            Спорт|\n",
            "|[житель, екатеринбурга, вячеслава, бутакова, пр...|(5000,[0,18,20,24,26,27,35,36,73,75,84,112,144,...|  1.0|           Россия|\n",
            "|[производитель, онлайнкасс, эвотор, анализирова...|(5000,[0,1,5,8,9,10,14,21,26,34,37,46,54,61,75,...|  3.0|        Экономика|\n",
            "|[вицепрезидент, еврокомиссии, марош, шефчович, ...|(5000,[0,1,2,12,14,15,16,18,19,22,33,41,49,50,5...|  3.0|        Экономика|\n",
            "|[россиянка, мария, бутина, судимая, сша, обвине...|(5000,[0,2,4,7,14,19,27,30,31,35,42,57,58,61,68...|  0.0|              Мир|\n",
            "|[нападающий, клуб, эдмонтон, ойлерс, коннор, ма...|(5000,[28,103,113,136,139,152,156,176,182,279,3...|  2.0|            Спорт|\n",
            "|[пентагон, игнорировать, обращение, министр, об...|(5000,[1,2,3,4,6,7,16,19,25,26,38,40,53,56,61,6...|  0.0|              Мир|\n",
            "|[неизвестный, тушить, вечный, огонь, марсовом, ...|(5000,[11,21,23,25,31,36,38,47,51,61,82,88,120,...|  1.0|           Россия|\n",
            "|[нападающий, пари, сенжермен, неймар, принять, ...|(5000,[0,6,22,27,28,41,45,47,52,82,95,105,109,1...|  2.0|            Спорт|\n",
            "+--------------------------------------------------+--------------------------------------------------+-----+-----------------+\n",
            "only showing top 20 rows\n",
            "\n"
          ]
        }
      ]
    },
    {
      "cell_type": "code",
      "source": [
        "%%time\n",
        "# set seed for reproducibility\n",
        "(train_df, test_df) = bow_df.select('features', 'label').randomSplit([0.7, 0.3], seed=100)"
      ],
      "metadata": {
        "colab": {
          "base_uri": "https://localhost:8080/"
        },
        "id": "ezkodKV_cUZP",
        "outputId": "be621f02-08fc-4b6e-b0ed-3d6031ceed6c"
      },
      "execution_count": 21,
      "outputs": [
        {
          "output_type": "stream",
          "name": "stdout",
          "text": [
            "CPU times: user 6.13 ms, sys: 29 µs, total: 6.16 ms\n",
            "Wall time: 70.5 ms\n"
          ]
        }
      ]
    },
    {
      "cell_type": "code",
      "source": [
        "print(f'Training Dataset Count: {train_df.count()}')\n",
        "print(f'Test Dataset Count: {test_df.count()}')"
      ],
      "metadata": {
        "id": "wKAL7OuHe0QY"
      },
      "execution_count": null,
      "outputs": []
    },
    {
      "cell_type": "markdown",
      "source": [
        "### LogReg"
      ],
      "metadata": {
        "id": "WfLTEQwUk5L1"
      }
    },
    {
      "cell_type": "code",
      "source": [
        "from pyspark.ml.classification import LogisticRegression"
      ],
      "metadata": {
        "id": "5XlBl19MliTU"
      },
      "execution_count": 24,
      "outputs": []
    },
    {
      "cell_type": "code",
      "source": [
        "%%time\n",
        "\n",
        "lr = LogisticRegression(maxIter=10, regParam=0.3, elasticNetParam=0)\n",
        "lrModel = lr.fit(train_df)\n",
        "predictions = lrModel.transform(test_df)"
      ],
      "metadata": {
        "colab": {
          "base_uri": "https://localhost:8080/"
        },
        "id": "rh3tM14XcUO-",
        "outputId": "39bc1a57-ff7a-43f3-edda-4d813880afd7"
      },
      "execution_count": 28,
      "outputs": [
        {
          "output_type": "stream",
          "name": "stdout",
          "text": [
            "CPU times: user 1.86 s, sys: 269 ms, total: 2.12 s\n",
            "Wall time: 4min 45s\n"
          ]
        }
      ]
    },
    {
      "cell_type": "code",
      "source": [
        "predictions.show(10, truncate=5)"
      ],
      "metadata": {
        "colab": {
          "base_uri": "https://localhost:8080/"
        },
        "id": "FGVDlWeon_mX",
        "outputId": "9f4e0632-eb3b-46b6-ddf0-298d982542d7"
      },
      "execution_count": 29,
      "outputs": [
        {
          "output_type": "stream",
          "name": "stdout",
          "text": [
            "+--------+-----+-------------+-----------+----------+\n",
            "|features|label|rawPrediction|probability|prediction|\n",
            "+--------+-----+-------------+-----------+----------+\n",
            "|   (5...|  3.0|        [2...|      [0...|       3.0|\n",
            "|   (5...|  0.0|        [3...|      [0...|       0.0|\n",
            "|   (5...|  0.0|        [5...|      [0...|       0.0|\n",
            "|   (5...|  0.0|        [2...|      [0...|       0.0|\n",
            "|   (5...|  0.0|        [5...|      [0...|       0.0|\n",
            "|   (5...|  0.0|        [6...|      [0...|       0.0|\n",
            "|   (5...|  0.0|        [6...|      [0...|       0.0|\n",
            "|   (5...|  0.0|        [4...|      [0...|       0.0|\n",
            "|   (5...|  0.0|        [4...|      [0...|       0.0|\n",
            "|   (5...|  0.0|        [4...|      [0...|       0.0|\n",
            "+--------+-----+-------------+-----------+----------+\n",
            "only showing top 10 rows\n",
            "\n"
          ]
        }
      ]
    },
    {
      "cell_type": "code",
      "source": [
        "%%time\n",
        "from sklearn.metrics import confusion_matrix, classification_report, f1_score\n",
        "y_true = predictions.select(\"label\")\n",
        "y_true = y_true.toPandas()\n",
        "\n",
        "y_pred = predictions.select(\"prediction\")\n",
        "y_pred = y_pred.toPandas()"
      ],
      "metadata": {
        "colab": {
          "base_uri": "https://localhost:8080/"
        },
        "id": "0cckwxxTcUL8",
        "outputId": "082110f9-3a6d-48f4-ff53-acb38635705c"
      },
      "execution_count": 30,
      "outputs": [
        {
          "output_type": "stream",
          "name": "stdout",
          "text": [
            "CPU times: user 2.37 s, sys: 409 ms, total: 2.78 s\n",
            "Wall time: 4min 43s\n"
          ]
        }
      ]
    },
    {
      "cell_type": "code",
      "source": [
        "label_names = bow_model.stages[-1].labels\n",
        "label_names =  [l  for i, l in enumerate(label_names) if i in y_true.label.unique()]\n",
        "len(labels)"
      ],
      "metadata": {
        "colab": {
          "base_uri": "https://localhost:8080/"
        },
        "id": "YMY4itDXvd9U",
        "outputId": "a530121c-2c67-4e7f-a87c-3230e7bb5d81"
      },
      "execution_count": 57,
      "outputs": [
        {
          "output_type": "execute_result",
          "data": {
            "text/plain": [
              "18"
            ]
          },
          "metadata": {},
          "execution_count": 57
        }
      ]
    },
    {
      "cell_type": "code",
      "source": [
        "print(classification_report(y_true.label, y_pred.prediction, target_names=label_names))"
      ],
      "metadata": {
        "colab": {
          "base_uri": "https://localhost:8080/"
        },
        "id": "JGk9_EUpnKAa",
        "outputId": "07d4af4c-97b6-423c-ca24-2c1d500ee40d"
      },
      "execution_count": 60,
      "outputs": [
        {
          "output_type": "stream",
          "name": "stdout",
          "text": [
            "                   precision    recall  f1-score   support\n",
            "\n",
            "              Мир       0.78      0.90      0.84      2081\n",
            "           Россия       0.68      0.83      0.74      1973\n",
            "            Спорт       0.94      0.97      0.95      1487\n",
            "        Экономика       0.85      0.87      0.86      1435\n",
            "   Интернет и СМИ       0.80      0.78      0.79      1186\n",
            "  Наука и техника       0.88      0.86      0.87      1016\n",
            "         Из жизни       0.80      0.80      0.80      1015\n",
            "      Бывший СССР       0.86      0.77      0.81       929\n",
            "         Культура       0.89      0.88      0.89       942\n",
            "Силовые структуры       0.82      0.70      0.75       841\n",
            "              Дом       0.92      0.77      0.84       601\n",
            "         Ценности       0.97      0.79      0.87       629\n",
            "      Путешествия       0.88      0.50      0.64       363\n",
            "   69-я параллель       0.75      0.03      0.05       119\n",
            "             Крым       1.00      0.04      0.08        49\n",
            "    Культпросвет        0.00      0.00      0.00        19\n",
            "           Оружие       0.00      0.00      0.00         1\n",
            "\n",
            "         accuracy                           0.82     14686\n",
            "        macro avg       0.75      0.62      0.63     14686\n",
            "     weighted avg       0.83      0.82      0.82     14686\n",
            "\n"
          ]
        }
      ]
    },
    {
      "cell_type": "code",
      "source": [
        "print(classification_report(y_true.label, y_pred.prediction, target_names=label_names, labels=range(0, 12)))"
      ],
      "metadata": {
        "colab": {
          "base_uri": "https://localhost:8080/"
        },
        "id": "R8VZDXyjwiI5",
        "outputId": "bd789700-c7e2-4bef-e714-23227f4367b1"
      },
      "execution_count": 63,
      "outputs": [
        {
          "output_type": "stream",
          "name": "stdout",
          "text": [
            "                   precision    recall  f1-score   support\n",
            "\n",
            "              Мир       0.78      0.90      0.84      2081\n",
            "           Россия       0.68      0.83      0.74      1973\n",
            "            Спорт       0.94      0.97      0.95      1487\n",
            "        Экономика       0.85      0.87      0.86      1435\n",
            "   Интернет и СМИ       0.80      0.78      0.79      1186\n",
            "  Наука и техника       0.88      0.86      0.87      1016\n",
            "         Из жизни       0.80      0.80      0.80      1015\n",
            "      Бывший СССР       0.86      0.77      0.81       929\n",
            "         Культура       0.89      0.88      0.89       942\n",
            "Силовые структуры       0.82      0.70      0.75       841\n",
            "              Дом       0.92      0.77      0.84       601\n",
            "         Ценности       0.97      0.79      0.87       629\n",
            "\n",
            "        micro avg       0.82      0.84      0.83     14135\n",
            "        macro avg       0.85      0.83      0.83     14135\n",
            "     weighted avg       0.83      0.84      0.83     14135\n",
            "\n"
          ]
        }
      ]
    },
    {
      "cell_type": "markdown",
      "source": [
        "---"
      ],
      "metadata": {
        "id": "PoOoNWQ1tauw"
      }
    },
    {
      "cell_type": "markdown",
      "source": [
        "## 4.3 Transfer learning"
      ],
      "metadata": {
        "id": "-X9Iv-j3wzFc"
      }
    },
    {
      "cell_type": "code",
      "source": [
        ""
      ],
      "metadata": {
        "id": "NtNLTzv6_uo0"
      },
      "execution_count": null,
      "outputs": []
    },
    {
      "cell_type": "code",
      "source": [
        ""
      ],
      "metadata": {
        "id": "szzofIhK_umb"
      },
      "execution_count": null,
      "outputs": []
    },
    {
      "cell_type": "code",
      "source": [
        ""
      ],
      "metadata": {
        "id": "95izc7kgFDur"
      },
      "execution_count": null,
      "outputs": []
    },
    {
      "cell_type": "code",
      "source": [
        ""
      ],
      "metadata": {
        "id": "3g56vTZ6FDrd"
      },
      "execution_count": null,
      "outputs": []
    }
  ]
}